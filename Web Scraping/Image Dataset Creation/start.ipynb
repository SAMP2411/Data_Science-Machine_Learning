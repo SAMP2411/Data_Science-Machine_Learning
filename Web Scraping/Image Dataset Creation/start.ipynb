{
 "cells": [
  {
   "cell_type": "code",
   "execution_count": 2,
   "metadata": {},
   "outputs": [],
   "source": [
    "import pandas as pd\n",
    "import os\n",
    "from shutil import copyfile as copy\n",
    "import shutil\n",
    "from tqdm import tqdm\n",
    "\n",
    "df = pd.read_csv('imgs_all_data.csv')\n",
    "del df['likes']\n",
    "del df['comments']\n",
    "del df['img_link']\n",
    "del df['img_id']\n",
    "df = df.dropna()\n",
    "\n"
   ]
  },
  {
   "cell_type": "code",
   "execution_count": 62,
   "metadata": {},
   "outputs": [
    {
     "data": {
      "text/plain": [
       "1601"
      ]
     },
     "execution_count": 62,
     "metadata": {},
     "output_type": "execute_result"
    }
   ],
   "source": [
    "t = [ ]\n",
    "for tags in df['tags'][:-1]:\n",
    "    \n",
    "    try:\n",
    "        t += [tag.strip() for tag in tags.split(',')]\n",
    "    except:\n",
    "        pass\n",
    "    \n",
    "\n",
    "tags = list(set(t))\n",
    "len(tags)"
   ]
  },
  {
   "cell_type": "code",
   "execution_count": 63,
   "metadata": {},
   "outputs": [
    {
     "name": "stderr",
     "output_type": "stream",
     "text": [
      "100%|██████████| 1601/1601 [00:00<00:00, 7262.17it/s]\n"
     ]
    }
   ],
   "source": [
    "for tag in tqdm(tags):\n",
    "    \n",
    "    try:\n",
    "        os.mkdir('Dataset/' + tag)\n",
    "    except:\n",
    "        pass"
   ]
  },
  {
   "cell_type": "code",
   "execution_count": 5,
   "metadata": {},
   "outputs": [
    {
     "name": "stdout",
     "output_type": "stream",
     "text": [
      "Imgs/A00001.jpg\n",
      "Dataset/Clouds/A00001.jpg\n",
      "-----------------------\n",
      "Imgs/A00001.jpg\n",
      "Dataset/Sky/A00001.jpg\n",
      "-----------------------\n",
      "Imgs/A00001.jpg\n",
      "Dataset/Atmosphere/A00001.jpg\n",
      "-----------------------\n",
      "Imgs/A00001.jpg\n",
      "Dataset/Blue Sky/A00001.jpg\n",
      "-----------------------\n",
      "Imgs/A00002.jpg\n",
      "Dataset/Bird/A00002.jpg\n",
      "-----------------------\n",
      "Imgs/A00002.jpg\n",
      "Dataset/Ornithology/A00002.jpg\n",
      "-----------------------\n",
      "Imgs/A00002.jpg\n",
      "Dataset/Hummingbird/A00002.jpg\n",
      "-----------------------\n",
      "Imgs/A00003.jpg\n",
      "Dataset/Sea/A00003.jpg\n",
      "-----------------------\n",
      "Imgs/A00003.jpg\n",
      "Dataset/Rainbow/A00003.jpg\n",
      "-----------------------\n",
      "Imgs/A00003.jpg\n",
      "Dataset/Rainfall/A00003.jpg\n",
      "-----------------------\n",
      "Imgs/A00003.jpg\n",
      "Dataset/Subtropical/A00003.jpg\n",
      "-----------------------\n",
      "Imgs/A00004.jpg\n",
      "Dataset/Cherry Blossoms/A00004.jpg\n",
      "-----------------------\n",
      "Imgs/A00004.jpg\n",
      "Dataset/Road/A00004.jpg\n",
      "-----------------------\n",
      "Imgs/A00004.jpg\n",
      "Dataset/Japan/A00004.jpg\n",
      "-----------------------\n",
      "Imgs/A00004.jpg\n",
      "Dataset/Sakura/A00004.jpg\n",
      "-----------------------\n",
      "Imgs/A00005.jpg\n",
      "Dataset/Cape Marguerite/A00005.jpg\n",
      "-----------------------\n",
      "Imgs/A00005.jpg\n",
      "Dataset/Flower/A00005.jpg\n",
      "-----------------------\n",
      "Imgs/A00005.jpg\n",
      "Dataset/Plant/A00005.jpg\n",
      "-----------------------\n",
      "Imgs/A00006.jpg\n",
      "Dataset/Relaxing Rest Under The Tree/A00006.jpg\n",
      "-----------------------\n",
      "Imgs/A00007.jpg\n",
      "Dataset/Cottontail Rabbit/A00007.jpg\n",
      "-----------------------\n",
      "Imgs/A00007.jpg\n",
      "Dataset/Wild Rabbit/A00007.jpg\n",
      "-----------------------\n",
      "Imgs/A00007.jpg\n",
      "Dataset/Grass/A00007.jpg\n",
      "-----------------------\n",
      "Imgs/A00008.jpg\n",
      "Dataset/Crocus/A00008.jpg\n",
      "-----------------------\n",
      "Imgs/A00008.jpg\n",
      "Dataset/Flowers/A00008.jpg\n",
      "-----------------------\n",
      "Imgs/A00008.jpg\n",
      "Dataset/Spring/A00008.jpg\n",
      "-----------------------\n",
      "Imgs/A00008.jpg\n",
      "Dataset/Plant/A00008.jpg\n",
      "-----------------------\n",
      "Imgs/A00009.jpg\n",
      "Dataset/Coffee/A00009.jpg\n",
      "-----------------------\n",
      "Imgs/A00009.jpg\n",
      "Dataset/Café/A00009.jpg\n",
      "-----------------------\n",
      "Imgs/A00009.jpg\n",
      "Dataset/Vacation/A00009.jpg\n",
      "-----------------------\n",
      "Imgs/A00009.jpg\n",
      "Dataset/Drink/A00009.jpg\n",
      "-----------------------\n",
      "Imgs/A00009.jpg\n",
      "Dataset/Table/A00009.jpg\n",
      "-----------------------\n",
      "Imgs/A00010.jpg\n",
      "Dataset/Waterfall/A00010.jpg\n",
      "-----------------------\n",
      "Imgs/A00010.jpg\n",
      "Dataset/Fall/A00010.jpg\n",
      "-----------------------\n",
      "Imgs/A00010.jpg\n",
      "Dataset/Epic/A00010.jpg\n",
      "-----------------------\n",
      "Imgs/A00010.jpg\n",
      "Dataset/Nature/A00010.jpg\n",
      "-----------------------\n",
      "Imgs/A00010.jpg\n",
      "Dataset/Light/A00010.jpg\n",
      "-----------------------\n"
     ]
    }
   ],
   "source": [
    "\n",
    "for data in df.values[:10]:\n",
    "    \n",
    "    tags = data[0]\n",
    "    tags = ['Dataset/' + tag.strip() + '/' for tag in tags.split(',')]\n",
    "    src = data[1]\n",
    "    for i in tags:\n",
    "        \n",
    "        dst = i + src.split('/')[-1]\n",
    "\n",
    "        print(src)\n",
    "        print(dst)\n",
    "        print('-'*23)"
   ]
  },
  {
   "cell_type": "code",
   "execution_count": 64,
   "metadata": {},
   "outputs": [],
   "source": [
    "error = 0\n",
    "\n",
    "for data in df.values:\n",
    "    \n",
    "    tags = data[0]\n",
    "    tags = ['Dataset/' + tag.strip() + '/' for tag in tags.split(',')]\n",
    "    src = data[1]\n",
    "    for i in tags:\n",
    "        \n",
    "        dst = i + src.split('/')[-1]\n",
    "        \n",
    "        try:\n",
    "            copy(src, dst)\n",
    "        except:\n",
    "            error += 1\n",
    "    "
   ]
  },
  {
   "cell_type": "code",
   "execution_count": 65,
   "metadata": {},
   "outputs": [
    {
     "data": {
      "text/plain": [
       "1593"
      ]
     },
     "execution_count": 65,
     "metadata": {},
     "output_type": "execute_result"
    }
   ],
   "source": [
    "folders = os.listdir('Dataset')\n",
    "len(folders)"
   ]
  },
  {
   "cell_type": "code",
   "execution_count": 66,
   "metadata": {},
   "outputs": [
    {
     "name": "stderr",
     "output_type": "stream",
     "text": [
      "100%|██████████| 1593/1593 [00:00<00:00, 4453.76it/s]\n"
     ]
    }
   ],
   "source": [
    "folder_ = []\n",
    "freq    = []\n",
    "\n",
    "for folder in tqdm(folders):\n",
    "    \n",
    "    try:\n",
    "        freq.append(len(os.listdir('Dataset/' + folder)))\n",
    "        folder_.append(folder)\n",
    "\n",
    "    except:\n",
    "        pass"
   ]
  },
  {
   "cell_type": "code",
   "execution_count": 67,
   "metadata": {},
   "outputs": [
    {
     "data": {
      "text/html": [
       "<div>\n",
       "<style scoped>\n",
       "    .dataframe tbody tr th:only-of-type {\n",
       "        vertical-align: middle;\n",
       "    }\n",
       "\n",
       "    .dataframe tbody tr th {\n",
       "        vertical-align: top;\n",
       "    }\n",
       "\n",
       "    .dataframe thead th {\n",
       "        text-align: right;\n",
       "    }\n",
       "</style>\n",
       "<table border=\"1\" class=\"dataframe\">\n",
       "  <thead>\n",
       "    <tr style=\"text-align: right;\">\n",
       "      <th></th>\n",
       "      <th>folder</th>\n",
       "      <th>freq</th>\n",
       "    </tr>\n",
       "  </thead>\n",
       "  <tbody>\n",
       "    <tr>\n",
       "      <th>947</th>\n",
       "      <td>Nature</td>\n",
       "      <td>108</td>\n",
       "    </tr>\n",
       "    <tr>\n",
       "      <th>566</th>\n",
       "      <td>Flowers</td>\n",
       "      <td>97</td>\n",
       "    </tr>\n",
       "    <tr>\n",
       "      <th>563</th>\n",
       "      <td>Flower</td>\n",
       "      <td>89</td>\n",
       "    </tr>\n",
       "    <tr>\n",
       "      <th>119</th>\n",
       "      <td>Bird</td>\n",
       "      <td>79</td>\n",
       "    </tr>\n",
       "    <tr>\n",
       "      <th>34</th>\n",
       "      <td>Animal</td>\n",
       "      <td>55</td>\n",
       "    </tr>\n",
       "    <tr>\n",
       "      <th>1309</th>\n",
       "      <td>Spring</td>\n",
       "      <td>51</td>\n",
       "    </tr>\n",
       "    <tr>\n",
       "      <th>1073</th>\n",
       "      <td>Plant</td>\n",
       "      <td>48</td>\n",
       "    </tr>\n",
       "    <tr>\n",
       "      <th>138</th>\n",
       "      <td>Bloom</td>\n",
       "      <td>46</td>\n",
       "    </tr>\n",
       "    <tr>\n",
       "      <th>141</th>\n",
       "      <td>Blossom</td>\n",
       "      <td>41</td>\n",
       "    </tr>\n",
       "    <tr>\n",
       "      <th>986</th>\n",
       "      <td>Ornithology</td>\n",
       "      <td>37</td>\n",
       "    </tr>\n",
       "  </tbody>\n",
       "</table>\n",
       "</div>"
      ],
      "text/plain": [
       "           folder  freq\n",
       "947        Nature   108\n",
       "566       Flowers    97\n",
       "563        Flower    89\n",
       "119          Bird    79\n",
       "34         Animal    55\n",
       "1309       Spring    51\n",
       "1073        Plant    48\n",
       "138         Bloom    46\n",
       "141       Blossom    41\n",
       "986   Ornithology    37"
      ]
     },
     "execution_count": 67,
     "metadata": {},
     "output_type": "execute_result"
    }
   ],
   "source": [
    "df_ = pd.DataFrame()\n",
    "\n",
    "df_['folder'] = folder_\n",
    "df_['freq']   = freq\n",
    "\n",
    "df_.sort_values(by = 'freq', ascending = False).head(10)"
   ]
  },
  {
   "cell_type": "code",
   "execution_count": 68,
   "metadata": {},
   "outputs": [
    {
     "data": {
      "text/html": [
       "<div>\n",
       "<style scoped>\n",
       "    .dataframe tbody tr th:only-of-type {\n",
       "        vertical-align: middle;\n",
       "    }\n",
       "\n",
       "    .dataframe tbody tr th {\n",
       "        vertical-align: top;\n",
       "    }\n",
       "\n",
       "    .dataframe thead th {\n",
       "        text-align: right;\n",
       "    }\n",
       "</style>\n",
       "<table border=\"1\" class=\"dataframe\">\n",
       "  <thead>\n",
       "    <tr style=\"text-align: right;\">\n",
       "      <th></th>\n",
       "      <th>folder</th>\n",
       "      <th>freq</th>\n",
       "    </tr>\n",
       "  </thead>\n",
       "  <tbody>\n",
       "    <tr>\n",
       "      <th>751</th>\n",
       "      <td>In einem kleinen Städtchen</td>\n",
       "      <td>0</td>\n",
       "    </tr>\n",
       "    <tr>\n",
       "      <th>0</th>\n",
       "      <td>&amp;quot;All we are saying is give peace a chance...</td>\n",
       "      <td>1</td>\n",
       "    </tr>\n",
       "    <tr>\n",
       "      <th>969</th>\n",
       "      <td>Occult</td>\n",
       "      <td>1</td>\n",
       "    </tr>\n",
       "    <tr>\n",
       "      <th>968</th>\n",
       "      <td>Oats</td>\n",
       "      <td>1</td>\n",
       "    </tr>\n",
       "    <tr>\n",
       "      <th>966</th>\n",
       "      <td>Nyc</td>\n",
       "      <td>1</td>\n",
       "    </tr>\n",
       "    <tr>\n",
       "      <th>965</th>\n",
       "      <td>Nuts</td>\n",
       "      <td>1</td>\n",
       "    </tr>\n",
       "    <tr>\n",
       "      <th>963</th>\n",
       "      <td>Nude</td>\n",
       "      <td>1</td>\n",
       "    </tr>\n",
       "    <tr>\n",
       "      <th>962</th>\n",
       "      <td>North Sea</td>\n",
       "      <td>1</td>\n",
       "    </tr>\n",
       "    <tr>\n",
       "      <th>961</th>\n",
       "      <td>North American River Otters</td>\n",
       "      <td>1</td>\n",
       "    </tr>\n",
       "    <tr>\n",
       "      <th>960</th>\n",
       "      <td>No Truth</td>\n",
       "      <td>1</td>\n",
       "    </tr>\n",
       "  </tbody>\n",
       "</table>\n",
       "</div>"
      ],
      "text/plain": [
       "                                                folder  freq\n",
       "751                         In einem kleinen Städtchen     0\n",
       "0    &quot;All we are saying is give peace a chance...     1\n",
       "969                                             Occult     1\n",
       "968                                               Oats     1\n",
       "966                                                Nyc     1\n",
       "965                                               Nuts     1\n",
       "963                                               Nude     1\n",
       "962                                          North Sea     1\n",
       "961                        North American River Otters     1\n",
       "960                                           No Truth     1"
      ]
     },
     "execution_count": 68,
     "metadata": {},
     "output_type": "execute_result"
    }
   ],
   "source": [
    "\n",
    "df_.sort_values(by = 'freq', ascending = True).head(10)"
   ]
  },
  {
   "cell_type": "code",
   "execution_count": 69,
   "metadata": {},
   "outputs": [
    {
     "data": {
      "text/html": [
       "<div>\n",
       "<style scoped>\n",
       "    .dataframe tbody tr th:only-of-type {\n",
       "        vertical-align: middle;\n",
       "    }\n",
       "\n",
       "    .dataframe tbody tr th {\n",
       "        vertical-align: top;\n",
       "    }\n",
       "\n",
       "    .dataframe thead th {\n",
       "        text-align: right;\n",
       "    }\n",
       "</style>\n",
       "<table border=\"1\" class=\"dataframe\">\n",
       "  <thead>\n",
       "    <tr style=\"text-align: right;\">\n",
       "      <th></th>\n",
       "      <th>folder</th>\n",
       "      <th>freq</th>\n",
       "    </tr>\n",
       "  </thead>\n",
       "  <tbody>\n",
       "    <tr>\n",
       "      <th>34</th>\n",
       "      <td>Animal</td>\n",
       "      <td>55</td>\n",
       "    </tr>\n",
       "    <tr>\n",
       "      <th>119</th>\n",
       "      <td>Bird</td>\n",
       "      <td>79</td>\n",
       "    </tr>\n",
       "    <tr>\n",
       "      <th>563</th>\n",
       "      <td>Flower</td>\n",
       "      <td>89</td>\n",
       "    </tr>\n",
       "    <tr>\n",
       "      <th>566</th>\n",
       "      <td>Flowers</td>\n",
       "      <td>97</td>\n",
       "    </tr>\n",
       "    <tr>\n",
       "      <th>947</th>\n",
       "      <td>Nature</td>\n",
       "      <td>108</td>\n",
       "    </tr>\n",
       "    <tr>\n",
       "      <th>1309</th>\n",
       "      <td>Spring</td>\n",
       "      <td>51</td>\n",
       "    </tr>\n",
       "  </tbody>\n",
       "</table>\n",
       "</div>"
      ],
      "text/plain": [
       "       folder  freq\n",
       "34     Animal    55\n",
       "119      Bird    79\n",
       "563    Flower    89\n",
       "566   Flowers    97\n",
       "947    Nature   108\n",
       "1309   Spring    51"
      ]
     },
     "execution_count": 69,
     "metadata": {},
     "output_type": "execute_result"
    }
   ],
   "source": [
    "\n",
    "df_[df_['freq'] >= 50]"
   ]
  },
  {
   "cell_type": "code",
   "execution_count": 70,
   "metadata": {},
   "outputs": [
    {
     "name": "stderr",
     "output_type": "stream",
     "text": [
      "100%|██████████| 1586/1586 [00:01<00:00, 824.35it/s] \n"
     ]
    }
   ],
   "source": [
    "for i in tqdm(df_[df_['freq'] < 50]['folder']):\n",
    "    \n",
    "    \n",
    "    src = 'Dataset/' + i\n",
    "    dst = 'Temp/' + i\n",
    "    \n",
    "    shutil.move(src, dst)    "
   ]
  }
 ],
 "metadata": {
  "kernelspec": {
   "display_name": "Python 3",
   "language": "python",
   "name": "python3"
  },
  "language_info": {
   "codemirror_mode": {
    "name": "ipython",
    "version": 3
   },
   "file_extension": ".py",
   "mimetype": "text/x-python",
   "name": "python",
   "nbconvert_exporter": "python",
   "pygments_lexer": "ipython3",
   "version": "3.11.4"
  },
  "orig_nbformat": 4
 },
 "nbformat": 4,
 "nbformat_minor": 2
}
