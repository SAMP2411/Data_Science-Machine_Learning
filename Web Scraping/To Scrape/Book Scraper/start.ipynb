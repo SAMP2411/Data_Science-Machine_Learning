{
 "cells": [
  {
   "cell_type": "code",
   "execution_count": 36,
   "metadata": {},
   "outputs": [],
   "source": [
    "import requests\n",
    "from bs4 import BeautifulSoup\n",
    "import pandas as pd"
   ]
  },
  {
   "cell_type": "code",
   "execution_count": 43,
   "metadata": {},
   "outputs": [
    {
     "ename": "AttributeError",
     "evalue": "'NoneType' object has no attribute 'find_all'",
     "output_type": "error",
     "traceback": [
      "\u001b[1;31m---------------------------------------------------------------------------\u001b[0m",
      "\u001b[1;31mAttributeError\u001b[0m                            Traceback (most recent call last)",
      "Cell \u001b[1;32mIn[43], line 8\u001b[0m\n\u001b[0;32m      5\u001b[0m res \u001b[39m=\u001b[39m requests\u001b[39m.\u001b[39mget(link)\n\u001b[0;32m      6\u001b[0m soup \u001b[39m=\u001b[39m BeautifulSoup(res\u001b[39m.\u001b[39mtext, \u001b[39m'\u001b[39m\u001b[39mhtml.parser\u001b[39m\u001b[39m'\u001b[39m)\n\u001b[1;32m----> 8\u001b[0m \u001b[39mprint\u001b[39m(soup\u001b[39m.\u001b[39;49mfind(\u001b[39m'\u001b[39;49m\u001b[39mtable\u001b[39;49m\u001b[39m'\u001b[39;49m,class_ \u001b[39m=\u001b[39;49m \u001b[39m'\u001b[39;49m\u001b[39mtable table-striped\u001b[39;49m\u001b[39m'\u001b[39;49m)\u001b[39m.\u001b[39;49mfind_all(\u001b[39m'\u001b[39m\u001b[39mtd\u001b[39m\u001b[39m'\u001b[39m)[\u001b[39m2\u001b[39m])\n\u001b[0;32m     10\u001b[0m \u001b[39m# for sp in soup.find_all('li',class_='col-xs-6 col-sm-4 col-md-3 col-lg-3'):\u001b[39;00m\n\u001b[0;32m     11\u001b[0m \u001b[39m#     book_link = \"https://books.toscrape.com/catalogue/\" + sp.find_all('a')[-1].get('href')\u001b[39;00m\n\u001b[0;32m     12\u001b[0m \u001b[39m#     name      = sp.find_all('a')[-1].get('title')\u001b[39;00m\n\u001b[1;32m   (...)\u001b[0m\n\u001b[0;32m     16\u001b[0m \u001b[39m#     stock     = sp.find('p', class_ = 'instock availability').text.strip()\u001b[39;00m\n\u001b[0;32m     17\u001b[0m \u001b[39m#     books.append([name, rating, price, stock, book_link, img_link])\u001b[39;00m\n\u001b[0;32m     19\u001b[0m \u001b[39mbreak\u001b[39;00m\n",
      "\u001b[1;31mAttributeError\u001b[0m: 'NoneType' object has no attribute 'find_all'"
     ]
    }
   ],
   "source": [
    "links = []\n",
    "books = []\n",
    "for i in range(1,51):\n",
    "    link =\"https://books.toscrape.com/catalogue/page-\"+ str(i) +\".html\"\n",
    "    res = requests.get(link)\n",
    "    soup = BeautifulSoup(res.text, 'html.parser')\n",
    "    \n",
    "    \n",
    "    for sp in soup.find_all('li',class_='col-xs-6 col-sm-4 col-md-3 col-lg-3'):\n",
    "        book_link = \"https://books.toscrape.com/catalogue/\" + sp.find_all('a')[-1].get('href')\n",
    "        name      = sp.find_all('a')[-1].get('title')\n",
    "        img_link  = \"https://books.toscrape.com/\" + sp.find('img').get('src')[3:]\n",
    "        rating    = sp.find('p').get('class')[-1]\n",
    "        price     = sp.find('p',class_ = 'price_color').text[2:]\n",
    "        stock     = sp.find('p', class_ = 'instock availability').text.strip()\n",
    "        books.append([name, rating, price, stock, book_link, img_link])\n",
    "\n",
    "    break"
   ]
  },
  {
   "cell_type": "code",
   "execution_count": 40,
   "metadata": {},
   "outputs": [],
   "source": [
    "df = pd.DataFrame(books, columns= [ 'title','rating','price','stock','book_link','img_link'])\n",
    "df.to_csv(\"books.csv\",index = False)"
   ]
  },
  {
   "cell_type": "code",
   "execution_count": null,
   "metadata": {},
   "outputs": [],
   "source": []
  }
 ],
 "metadata": {
  "kernelspec": {
   "display_name": "Python 3",
   "language": "python",
   "name": "python3"
  },
  "language_info": {
   "codemirror_mode": {
    "name": "ipython",
    "version": 3
   },
   "file_extension": ".py",
   "mimetype": "text/x-python",
   "name": "python",
   "nbconvert_exporter": "python",
   "pygments_lexer": "ipython3",
   "version": "3.11.4"
  },
  "orig_nbformat": 4
 },
 "nbformat": 4,
 "nbformat_minor": 2
}
