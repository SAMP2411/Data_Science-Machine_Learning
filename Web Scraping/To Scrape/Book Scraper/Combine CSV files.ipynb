{
 "cells": [
  {
   "cell_type": "code",
   "execution_count": 1,
   "metadata": {},
   "outputs": [],
   "source": [
    "import pandas as pd\n",
    "\n",
    "df_1 = pd.read_csv('books.csv')\n",
    "df_2 = pd.read_csv('data.csv')\n",
    "\n"
   ]
  },
  {
   "cell_type": "code",
   "execution_count": 2,
   "metadata": {},
   "outputs": [],
   "source": [
    "df = pd.DataFrame()\n",
    "\n",
    "df['title']       = df_1['title']\n",
    "df['upc']         = df_2['upc']\n",
    "df['category']    = df_2['category']\n",
    "df['price_e_tax'] = df_2['price_e_tax']\n",
    "df['price_i_tax'] = df_2['price_i_tax']\n",
    "df['tax']         = df_2['tax']\n",
    "df['rating']      = df_1['rating']\n",
    "df['reviews']     = df_2['reviews']\n",
    "df['quantity']    = df_2['quantity']\n",
    "df['stock']       = df_1['stock']\n",
    "df['book_link']   = df_1['book_link']\n",
    "df['img_link']    = df_1['img_link']"
   ]
  },
  {
   "cell_type": "code",
   "execution_count": 3,
   "metadata": {},
   "outputs": [],
   "source": [
    "df.to_csv(\"All info Books.csv\")"
   ]
  },
  {
   "cell_type": "code",
   "execution_count": null,
   "metadata": {},
   "outputs": [],
   "source": []
  }
 ],
 "metadata": {
  "kernelspec": {
   "display_name": "Python 3",
   "language": "python",
   "name": "python3"
  },
  "language_info": {
   "codemirror_mode": {
    "name": "ipython",
    "version": 3
   },
   "file_extension": ".py",
   "mimetype": "text/x-python",
   "name": "python",
   "nbconvert_exporter": "python",
   "pygments_lexer": "ipython3",
   "version": "3.11.4"
  },
  "orig_nbformat": 4
 },
 "nbformat": 4,
 "nbformat_minor": 2
}
