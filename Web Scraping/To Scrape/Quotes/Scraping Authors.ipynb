{
 "cells": [
  {
   "cell_type": "code",
   "execution_count": 13,
   "metadata": {},
   "outputs": [
    {
     "ename": "ModuleNotFoundError",
     "evalue": "No module named 'tqdm'",
     "output_type": "error",
     "traceback": [
      "\u001b[1;31m---------------------------------------------------------------------------\u001b[0m",
      "\u001b[1;31mModuleNotFoundError\u001b[0m                       Traceback (most recent call last)",
      "Cell \u001b[1;32mIn[13], line 4\u001b[0m\n\u001b[0;32m      2\u001b[0m \u001b[39mimport\u001b[39;00m \u001b[39mpandas\u001b[39;00m \u001b[39mas\u001b[39;00m \u001b[39mpd\u001b[39;00m\n\u001b[0;32m      3\u001b[0m \u001b[39mfrom\u001b[39;00m \u001b[39mbs4\u001b[39;00m \u001b[39mimport\u001b[39;00m BeautifulSoup\n\u001b[1;32m----> 4\u001b[0m \u001b[39mfrom\u001b[39;00m \u001b[39mtqdm\u001b[39;00m \u001b[39mimport\u001b[39;00m tqdm\n\u001b[0;32m      5\u001b[0m link \u001b[39m=\u001b[39m\u001b[39m'\u001b[39m\u001b[39mhttps://quotes.toscrape.com/\u001b[39m\u001b[39m'\u001b[39m\n\u001b[0;32m      6\u001b[0m res\u001b[39m=\u001b[39m requests\u001b[39m.\u001b[39mget(link)\n",
      "\u001b[1;31mModuleNotFoundError\u001b[0m: No module named 'tqdm'"
     ]
    }
   ],
   "source": [
    "import requests\n",
    "import pandas as pd\n",
    "from bs4 import BeautifulSoup\n",
    "from tqdm import tqdm\n",
    "link ='https://quotes.toscrape.com/'\n",
    "res= requests.get(link)\n",
    "soup = BeautifulSoup(res.text, 'html.parser')\n",
    "# type(soup)\n",
    "\n",
    "# print(soup.find('span', class_ = 'text').text[1:-1])"
   ]
  },
  {
   "cell_type": "code",
   "execution_count": 5,
   "metadata": {},
   "outputs": [],
   "source": [
    "data = []\n",
    "\n",
    "\n",
    "for sp in soup.find_all('div',class_=\"quote\"):\n",
    "    # print(sp)\n",
    "    author = sp.find('small', class_ = 'author').text\n",
    "    author_id = sp.find('a').get('href')\n",
    "    \n",
    "    author_link = link + author_id[1:]\n",
    "\n",
    "    data.append([author,author_link])\n",
    "    "
   ]
  },
  {
   "cell_type": "code",
   "execution_count": 18,
   "metadata": {},
   "outputs": [],
   "source": [
    "df  =pd.DataFrame(data, columns = [\"author\",\"author_link\"] )\n",
    "df.to_csv('Author_links.csv',index = False)\n",
    "\n",
    "df = df.drop_duplicates()\n",
    "datanew = []\n",
    "paths = []\n",
    "\n",
    "for auth in df.values:\n",
    "    name = \"Authors/\"+auth[0]+\".txt\"\n",
    "    link = auth[1]\n",
    "\n",
    "    res = requests.get(link)\n",
    "    soup = BeautifulSoup(res.text, 'html.parser')\n",
    "\n",
    "    text = soup.find('div', class_ = 'author-details').text\n",
    "    datanew.append(text.strip(\"\\n\"))\n",
    "    paths.append(name)\n",
    "\n",
    "    fd = open(name,\"w\")\n",
    "    fd.write(text)\n",
    "    fd.close()\n",
    "\n",
    "df[\"author_info\"] = datanew\n",
    "df[\"paths\"] = paths\n",
    "df.to_csv(\"Authors/all.csv\", index = False)\n"
   ]
  },
  {
   "cell_type": "code",
   "execution_count": null,
   "metadata": {},
   "outputs": [],
   "source": []
  }
 ],
 "metadata": {
  "kernelspec": {
   "display_name": "Python 3",
   "language": "python",
   "name": "python3"
  },
  "language_info": {
   "codemirror_mode": {
    "name": "ipython",
    "version": 3
   },
   "file_extension": ".py",
   "mimetype": "text/x-python",
   "name": "python",
   "nbconvert_exporter": "python",
   "pygments_lexer": "ipython3",
   "version": "3.11.4"
  },
  "orig_nbformat": 4
 },
 "nbformat": 4,
 "nbformat_minor": 2
}
