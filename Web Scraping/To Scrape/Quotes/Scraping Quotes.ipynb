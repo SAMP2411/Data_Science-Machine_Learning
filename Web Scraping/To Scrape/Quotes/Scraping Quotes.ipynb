{
 "cells": [
  {
   "cell_type": "code",
   "execution_count": 44,
   "metadata": {},
   "outputs": [
    {
     "name": "stdout",
     "output_type": "stream",
     "text": [
      "The world as we have created it is a process of our thinking. It cannot be changed without changing our thinking.\n"
     ]
    }
   ],
   "source": [
    "import requests\n",
    "from bs4 import BeautifulSoup\n",
    "\n",
    "res= requests.get('https://quotes.toscrape.com/')\n",
    "soup = BeautifulSoup(res.text, 'html.parser')\n",
    "# type(soup)\n",
    "\n",
    "print(soup.find('span', class_ = 'text').text[1:-1])"
   ]
  },
  {
   "cell_type": "code",
   "execution_count": 45,
   "metadata": {},
   "outputs": [
    {
     "name": "stdout",
     "output_type": "stream",
     "text": [
      "['The world as we have created it is a process of our thinking. It cannot be changed without changing our thinking.', 'It is our choices, Harry, that show what we truly are, far more than our abilities.', 'There are only two ways to live your life. One is as though nothing is a miracle. The other is as though everything is a miracle.', 'The person, be it gentleman or lady, who has not pleasure in a good novel, must be intolerably stupid.', \"Imperfection is beauty, madness is genius and it's better to be absolutely ridiculous than absolutely boring.\", 'Try not to become a man of success. Rather become a man of value.', 'It is better to be hated for what you are than to be loved for what you are not.', \"I have not failed. I've just found 10,000 ways that won't work.\", \"A woman is like a tea bag; you never know how strong it is until it's in hot water.\", 'A day without sunshine is like, you know, night.']\n"
     ]
    }
   ],
   "source": [
    "tags_list = soup.find_all('span', class_ = 'text')\n",
    "quotes = [ ]\n",
    "\n",
    "for quote in tags_list:\n",
    "    # print(quotes.text[1:-1])\n",
    "    quotes.append(quote.text[1:-1])\n",
    "print(quotes)"
   ]
  },
  {
   "cell_type": "code",
   "execution_count": null,
   "metadata": {},
   "outputs": [],
   "source": []
  },
  {
   "cell_type": "code",
   "execution_count": null,
   "metadata": {},
   "outputs": [],
   "source": []
  }
 ],
 "metadata": {
  "kernelspec": {
   "display_name": "Python 3",
   "language": "python",
   "name": "python3"
  },
  "language_info": {
   "codemirror_mode": {
    "name": "ipython",
    "version": 3
   },
   "file_extension": ".py",
   "mimetype": "text/x-python",
   "name": "python",
   "nbconvert_exporter": "python",
   "pygments_lexer": "ipython3",
   "version": "3.11.4"
  },
  "orig_nbformat": 4
 },
 "nbformat": 4,
 "nbformat_minor": 2
}
