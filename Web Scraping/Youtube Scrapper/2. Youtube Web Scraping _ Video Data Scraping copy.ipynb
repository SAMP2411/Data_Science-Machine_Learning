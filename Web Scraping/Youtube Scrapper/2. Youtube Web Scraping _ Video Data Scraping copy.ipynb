{
 "cells": [
  {
   "cell_type": "code",
   "execution_count": 26,
   "id": "e3aae175",
   "metadata": {},
   "outputs": [],
   "source": [
    "import time\n",
    "import numpy as np\n",
    "import pandas as pd\n",
    "from tqdm import tqdm\n",
    "\n",
    "from bs4 import BeautifulSoup\n",
    "from selenium import webdriver\n",
    "\n",
    "import chromedriver_binary"
   ]
  },
  {
   "cell_type": "code",
   "execution_count": 27,
   "id": "3e6e14b3",
   "metadata": {},
   "outputs": [
    {
     "data": {
      "text/html": [
       "<div>\n",
       "<style scoped>\n",
       "    .dataframe tbody tr th:only-of-type {\n",
       "        vertical-align: middle;\n",
       "    }\n",
       "\n",
       "    .dataframe tbody tr th {\n",
       "        vertical-align: top;\n",
       "    }\n",
       "\n",
       "    .dataframe thead th {\n",
       "        text-align: right;\n",
       "    }\n",
       "</style>\n",
       "<table border=\"1\" class=\"dataframe\">\n",
       "  <thead>\n",
       "    <tr style=\"text-align: right;\">\n",
       "      <th></th>\n",
       "      <th>title</th>\n",
       "      <th>views</th>\n",
       "      <th>date_time</th>\n",
       "      <th>video_link</th>\n",
       "      <th>thumbnail_link</th>\n",
       "    </tr>\n",
       "  </thead>\n",
       "  <tbody>\n",
       "    <tr>\n",
       "      <th>0</th>\n",
       "      <td>Data Analysis Masterclass | Geek-A-Thon | Geek...</td>\n",
       "      <td>348 views</td>\n",
       "      <td>19 hours ago</td>\n",
       "      <td>https://www.youtube.com/watch?v=-7Emxpn8DXc</td>\n",
       "      <td>https://i.ytimg.com/vi/-7Emxpn8DXc/hqdefault.jpg</td>\n",
       "    </tr>\n",
       "    <tr>\n",
       "      <th>1</th>\n",
       "      <td>GeeksforGeeks Offline Classroom Program | Now ...</td>\n",
       "      <td>1.3K views</td>\n",
       "      <td>1 day ago</td>\n",
       "      <td>https://www.youtube.com/watch?v=2bPiFkt3Nmg</td>\n",
       "      <td>https://i.ytimg.com/vi/2bPiFkt3Nmg/hqdefault.jpg</td>\n",
       "    </tr>\n",
       "    <tr>\n",
       "      <th>2</th>\n",
       "      <td>Kickstart your DevOps Career | GeeksforGeeks</td>\n",
       "      <td>5.9K views</td>\n",
       "      <td>5 days ago</td>\n",
       "      <td>https://www.youtube.com/watch?v=8gwwlpBwr_s</td>\n",
       "      <td>https://i.ytimg.com/vi/8gwwlpBwr_s/hqdefault.jpg</td>\n",
       "    </tr>\n",
       "    <tr>\n",
       "      <th>3</th>\n",
       "      <td>First Ever KBC at our Offline Classes | Geeksf...</td>\n",
       "      <td>560 views</td>\n",
       "      <td>7 days ago</td>\n",
       "      <td>https://www.youtube.com/watch?v=chYg2EAKW2A</td>\n",
       "      <td>https://i.ytimg.com/vi/chYg2EAKW2A/hqdefault.jpg</td>\n",
       "    </tr>\n",
       "    <tr>\n",
       "      <th>4</th>\n",
       "      <td>Mega Job-a-thon for Working Professionals | 21...</td>\n",
       "      <td>958 views</td>\n",
       "      <td>13 days ago</td>\n",
       "      <td>https://www.youtube.com/watch?v=CyOh-WDfUvs</td>\n",
       "      <td>https://i.ytimg.com/vi/CyOh-WDfUvs/hqdefault.jpg</td>\n",
       "    </tr>\n",
       "  </tbody>\n",
       "</table>\n",
       "</div>"
      ],
      "text/plain": [
       "                                               title       views  \\\n",
       "0  Data Analysis Masterclass | Geek-A-Thon | Geek...   348 views   \n",
       "1  GeeksforGeeks Offline Classroom Program | Now ...  1.3K views   \n",
       "2       Kickstart your DevOps Career | GeeksforGeeks  5.9K views   \n",
       "3  First Ever KBC at our Offline Classes | Geeksf...   560 views   \n",
       "4  Mega Job-a-thon for Working Professionals | 21...   958 views   \n",
       "\n",
       "      date_time                                   video_link  \\\n",
       "0  19 hours ago  https://www.youtube.com/watch?v=-7Emxpn8DXc   \n",
       "1     1 day ago  https://www.youtube.com/watch?v=2bPiFkt3Nmg   \n",
       "2    5 days ago  https://www.youtube.com/watch?v=8gwwlpBwr_s   \n",
       "3    7 days ago  https://www.youtube.com/watch?v=chYg2EAKW2A   \n",
       "4   13 days ago  https://www.youtube.com/watch?v=CyOh-WDfUvs   \n",
       "\n",
       "                                     thumbnail_link  \n",
       "0  https://i.ytimg.com/vi/-7Emxpn8DXc/hqdefault.jpg  \n",
       "1  https://i.ytimg.com/vi/2bPiFkt3Nmg/hqdefault.jpg  \n",
       "2  https://i.ytimg.com/vi/8gwwlpBwr_s/hqdefault.jpg  \n",
       "3  https://i.ytimg.com/vi/chYg2EAKW2A/hqdefault.jpg  \n",
       "4  https://i.ytimg.com/vi/CyOh-WDfUvs/hqdefault.jpg  "
      ]
     },
     "execution_count": 27,
     "metadata": {},
     "output_type": "execute_result"
    }
   ],
   "source": [
    "df = pd.read_csv('data.csv')\n",
    "\n",
    "\n",
    "df.head()"
   ]
  },
  {
   "cell_type": "code",
   "execution_count": 28,
   "id": "c15a017a",
   "metadata": {},
   "outputs": [
    {
     "name": "stderr",
     "output_type": "stream",
     "text": [
      "  0%|          | 4/1681 [00:54<6:19:07, 13.56s/it]\n"
     ]
    }
   ],
   "source": [
    "browser = webdriver.Chrome()\n",
    "browser.get('https://www.youtube.com')\n",
    "time.sleep(2)\n",
    "\n",
    "data = []\n",
    "i = 0\n",
    "for link in tqdm(df['video_link']):\n",
    "    i+=1\n",
    "    browser.get(link)\n",
    "    \n",
    "    time.sleep(5)\n",
    "    \n",
    "    soup = BeautifulSoup(browser.page_source, 'html.parser')\n",
    "\n",
    "    try:\n",
    "        title = soup.find_all('yt-formatted-string', class_ = 'style-scope ytd-video-primary-info-renderer')[0].text\n",
    "    except:\n",
    "        title = np.nan\n",
    "    \n",
    "    try:\n",
    "        view = soup.find('span' , class_ = 'view-count style-scope ytd-video-view-count-renderer').text\n",
    "    except:\n",
    "        view = np.nan\n",
    "        \n",
    "    try:\n",
    "        date_time = soup.find_all('yt-formatted-string', class_ = 'style-scope ytd-video-primary-info-renderer')[1].text\n",
    "    except:\n",
    "        date_time = np.nan\n",
    "    \n",
    "    try:\n",
    "        like = soup.find_all('span', class_ = 'yt-core-attributed-string yt-core-attributed-string--white-space-no-wrap')[4].text\n",
    "    except:\n",
    "        like = np.nan\n",
    "      \n",
    "    try:\n",
    "        description = soup.find_all('span', class_ = 'yt-core-attributed-string yt-core-attributed-string--white-space-pre-wrap')[1].text\n",
    "    except:\n",
    "        description = np.nan\n",
    "\n",
    "    if i == 5:\n",
    "        break\n",
    "    data.append([title , date_time, like, view, link, description])"
   ]
  },
  {
   "cell_type": "code",
   "execution_count": 29,
   "id": "9c41620e",
   "metadata": {
    "scrolled": false
   },
   "outputs": [
    {
     "data": {
      "text/plain": [
       "[['Data Analysis Masterclass | Geek-A-Thon | GeeksforGeeks',\n",
       "  'Jul 26, 2023',\n",
       "  '21',\n",
       "  '352 views',\n",
       "  'https://www.youtube.com/watch?v=-7Emxpn8DXc',\n",
       "  \"Welcome to GeeksforGeeks' Data Analysis Masterclass, part of our exclusive Geek-A-Thon series! This class is your definitive guide to mastering the critical skill of data analysis and unlocking the power of data-driven decision-making.\\n\\nData Analysis is a highly sought-after skill in today's data-centric world. Businesses across industries are seeking professionals who can turn raw data into insightful information. This Masterclass, brought to you by GeeksforGeeks, covers the foundational concepts of the advanced techniques of data analysis.\\n\\nGeek-O-Lympics-: https://www.geeksforgeeks.org/geek-ol...\\n\\nGeek-A-Thon-: https://practice.geeksforgeeks.org/ha...\\n#geekolympics #geeksforgeeks #hackathon\"],\n",
       " ['GeeksforGeeks Offline Classroom Program | Now Open In Noida & Gurgaon',\n",
       "  'Jul 25, 2023',\n",
       "  '12',\n",
       "  '1,368 views',\n",
       "  'https://www.youtube.com/watch?v=2bPiFkt3Nmg',\n",
       "  \"GeeksforGeeks Offline Classes on MERN Full Stack and DSA are now in Noida and Gurgaon\\n\\nRegister Now & avail INR 5000 Discount: https://www.geeksforgeeks.org/courses...\\n\\n🚀📚 Ready to level up your coding skills? Join us at GeeksforGeeks Offline Classes in Noida and Gurgaon! 🏢💻\\n\\n🎯 Master the MERN Full Stack 🌐 and conquer Data Structures and Algorithms 🗂️ with our expert instructors! 🎓\\n\\n🔥 Get hands-on with real projects, 💼 build your portfolio, and learn from industry pros! 💡💼\\n\\nDon't miss this chance to become a coding wizard! 🧙\\u200d♂️ Enroll now! 📝🔜\\n\\nExplore Premium LIVE and Online Courses : \\nhttps://practice.geeksforgeeks.org/co...\\n\\nFollow us for more fun, knowledge and resources  - \\n\\n💬 Twitter- https://twitter.com/geeksforgeeks \\n\\n 🧑\\u200d💼 LinkedIn- https://www.linkedin.com/company/geek...\\n\\n🗣️ Facebook- https://www.facebook.com/geeksforgeek... \\n\\n📷 Instagram- https://www.instagram.com/geeks_for_g... \\n\\n💌 Telegram- https://t.me/s/geeksforgeeks_official \\n\\nAlso, Subscribe if you haven't already! :)\\n\\n#GeeksforGeeks #offlineclasses #mernstack #DSA #interviewpreparation\"],\n",
       " ['Kickstart your DevOps Career | GeeksforGeeks',\n",
       "  'Jul 21, 2023',\n",
       "  '32',\n",
       "  '6,014 views',\n",
       "  'https://www.youtube.com/watch?v=8gwwlpBwr_s',\n",
       "  \"Register Now: https://practice.geeksforgeeks.org/co...\\n\\nGet ready to revolutionize your process & improve your workflow delivery with DevOps-Live course!\\nImprove the ability to quickly release high- quality software.\\nDeliver better software faster through continuous integration, delivery, and deployment.\\nRegister today!\\n\\nExplore Premium LIVE and Online Courses : \\nhttps://practice.geeksforgeeks.org/co...\\n\\nFollow us for more fun, knowledge and resources  - \\n\\n💬 Twitter- https://twitter.com/geeksforgeeks \\n\\n 🧑\\u200d💼 LinkedIn- https://www.linkedin.com/company/geek...\\n\\n🗣️ Facebook- https://www.facebook.com/geeksforgeek... \\n\\n📷 Instagram- https://www.instagram.com/geeks_for_g... \\n\\n💌 Telegram- https://t.me/s/geeksforgeeks_official \\n\\nAlso, Subscribe if you haven't already! :)\\n\\n#GeeksforGeeks #Learntocode #GFG\"],\n",
       " ['First Ever KBC at our Offline Classes | GeeksforGeeks',\n",
       "  'Jul 20, 2023',\n",
       "  '18',\n",
       "  '560 views',\n",
       "  'https://www.youtube.com/watch?v=chYg2EAKW2A',\n",
       "  \"Computer ji, humare Geeks k liye prashn pesh kiye jaye! 🖥️ \\nCheck out our first-ever Kaun Banega Codepati session at our first-ever offline batch ✨ \\n\\nExplore our Offline Batches : https://practice.geeksforgeeks.org/co...\\n\\nExplore Premium LIVE and Online Courses : \\nhttps://practice.geeksforgeeks.org/co...\\n\\nFollow us for more fun, knowledge and resources  - \\n\\n💬 Twitter- https://twitter.com/geeksforgeeks \\n\\n 🧑\\u200d💼 LinkedIn- https://www.linkedin.com/company/geek...\\n\\n🗣️ Facebook- https://www.facebook.com/geeksforgeek... \\n\\n📷 Instagram- https://www.instagram.com/geeks_for_g... \\n\\n💌 Telegram- https://t.me/s/geeksforgeeks_official \\n\\nAlso, Subscribe if you haven't already! :)\\n\\n#GeeksforGeeks #Learntocode #GFG\"]]"
      ]
     },
     "execution_count": 29,
     "metadata": {},
     "output_type": "execute_result"
    }
   ],
   "source": [
    "data"
   ]
  },
  {
   "cell_type": "code",
   "execution_count": 32,
   "id": "f97b38aa",
   "metadata": {},
   "outputs": [
    {
     "data": {
      "text/plain": [
       "4"
      ]
     },
     "execution_count": 32,
     "metadata": {},
     "output_type": "execute_result"
    }
   ],
   "source": [
    "len(data)"
   ]
  },
  {
   "cell_type": "code",
   "execution_count": 33,
   "id": "02efb11d",
   "metadata": {},
   "outputs": [
    {
     "data": {
      "text/html": [
       "<div>\n",
       "<style scoped>\n",
       "    .dataframe tbody tr th:only-of-type {\n",
       "        vertical-align: middle;\n",
       "    }\n",
       "\n",
       "    .dataframe tbody tr th {\n",
       "        vertical-align: top;\n",
       "    }\n",
       "\n",
       "    .dataframe thead th {\n",
       "        text-align: right;\n",
       "    }\n",
       "</style>\n",
       "<table border=\"1\" class=\"dataframe\">\n",
       "  <thead>\n",
       "    <tr style=\"text-align: right;\">\n",
       "      <th></th>\n",
       "      <th>title</th>\n",
       "      <th>date_time</th>\n",
       "      <th>like</th>\n",
       "      <th>view</th>\n",
       "      <th>link</th>\n",
       "      <th>description</th>\n",
       "    </tr>\n",
       "  </thead>\n",
       "  <tbody>\n",
       "    <tr>\n",
       "      <th>0</th>\n",
       "      <td>Data Analysis Masterclass | Geek-A-Thon | Geek...</td>\n",
       "      <td>Jul 26, 2023</td>\n",
       "      <td>21</td>\n",
       "      <td>352 views</td>\n",
       "      <td>https://www.youtube.com/watch?v=-7Emxpn8DXc</td>\n",
       "      <td>Welcome to GeeksforGeeks' Data Analysis Master...</td>\n",
       "    </tr>\n",
       "    <tr>\n",
       "      <th>1</th>\n",
       "      <td>GeeksforGeeks Offline Classroom Program | Now ...</td>\n",
       "      <td>Jul 25, 2023</td>\n",
       "      <td>12</td>\n",
       "      <td>1,368 views</td>\n",
       "      <td>https://www.youtube.com/watch?v=2bPiFkt3Nmg</td>\n",
       "      <td>GeeksforGeeks Offline Classes on MERN Full Sta...</td>\n",
       "    </tr>\n",
       "    <tr>\n",
       "      <th>2</th>\n",
       "      <td>Kickstart your DevOps Career | GeeksforGeeks</td>\n",
       "      <td>Jul 21, 2023</td>\n",
       "      <td>32</td>\n",
       "      <td>6,014 views</td>\n",
       "      <td>https://www.youtube.com/watch?v=8gwwlpBwr_s</td>\n",
       "      <td>Register Now: https://practice.geeksforgeeks.o...</td>\n",
       "    </tr>\n",
       "    <tr>\n",
       "      <th>3</th>\n",
       "      <td>First Ever KBC at our Offline Classes | Geeksf...</td>\n",
       "      <td>Jul 20, 2023</td>\n",
       "      <td>18</td>\n",
       "      <td>560 views</td>\n",
       "      <td>https://www.youtube.com/watch?v=chYg2EAKW2A</td>\n",
       "      <td>Computer ji, humare Geeks k liye prashn pesh k...</td>\n",
       "    </tr>\n",
       "  </tbody>\n",
       "</table>\n",
       "</div>"
      ],
      "text/plain": [
       "                                               title     date_time like  \\\n",
       "0  Data Analysis Masterclass | Geek-A-Thon | Geek...  Jul 26, 2023   21   \n",
       "1  GeeksforGeeks Offline Classroom Program | Now ...  Jul 25, 2023   12   \n",
       "2       Kickstart your DevOps Career | GeeksforGeeks  Jul 21, 2023   32   \n",
       "3  First Ever KBC at our Offline Classes | Geeksf...  Jul 20, 2023   18   \n",
       "\n",
       "          view                                         link  \\\n",
       "0    352 views  https://www.youtube.com/watch?v=-7Emxpn8DXc   \n",
       "1  1,368 views  https://www.youtube.com/watch?v=2bPiFkt3Nmg   \n",
       "2  6,014 views  https://www.youtube.com/watch?v=8gwwlpBwr_s   \n",
       "3    560 views  https://www.youtube.com/watch?v=chYg2EAKW2A   \n",
       "\n",
       "                                         description  \n",
       "0  Welcome to GeeksforGeeks' Data Analysis Master...  \n",
       "1  GeeksforGeeks Offline Classes on MERN Full Sta...  \n",
       "2  Register Now: https://practice.geeksforgeeks.o...  \n",
       "3  Computer ji, humare Geeks k liye prashn pesh k...  "
      ]
     },
     "execution_count": 33,
     "metadata": {},
     "output_type": "execute_result"
    }
   ],
   "source": [
    "df = pd.DataFrame(data, columns= ['title' , 'date_time', 'like', 'view', 'link', \"description\"])\n",
    "df"
   ]
  },
  {
   "cell_type": "code",
   "execution_count": 34,
   "id": "67785971",
   "metadata": {},
   "outputs": [],
   "source": [
    "df.to_csv(\"Video_Info.csv\",index=False)"
   ]
  },
  {
   "cell_type": "code",
   "execution_count": 30,
   "id": "b66f2e54",
   "metadata": {},
   "outputs": [
    {
     "data": {
      "text/plain": [
       "175.41666666666666"
      ]
     },
     "execution_count": 30,
     "metadata": {},
     "output_type": "execute_result"
    }
   ],
   "source": [
    "10525/60"
   ]
  },
  {
   "cell_type": "code",
   "execution_count": 31,
   "id": "398f9a57",
   "metadata": {},
   "outputs": [
    {
     "data": {
      "text/plain": [
       "2.9166666666666665"
      ]
     },
     "execution_count": 31,
     "metadata": {},
     "output_type": "execute_result"
    }
   ],
   "source": [
    "175/60"
   ]
  },
  {
   "cell_type": "code",
   "execution_count": null,
   "id": "fa25f961",
   "metadata": {},
   "outputs": [],
   "source": []
  }
 ],
 "metadata": {
  "kernelspec": {
   "display_name": "Python 3 (ipykernel)",
   "language": "python",
   "name": "python3"
  },
  "language_info": {
   "codemirror_mode": {
    "name": "ipython",
    "version": 3
   },
   "file_extension": ".py",
   "mimetype": "text/x-python",
   "name": "python",
   "nbconvert_exporter": "python",
   "pygments_lexer": "ipython3",
   "version": "3.11.4"
  }
 },
 "nbformat": 4,
 "nbformat_minor": 5
}
