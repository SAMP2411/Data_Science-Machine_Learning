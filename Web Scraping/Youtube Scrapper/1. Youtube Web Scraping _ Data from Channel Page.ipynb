{
 "cells": [
  {
   "cell_type": "code",
   "execution_count": 1,
   "id": "9ca8db1f",
   "metadata": {},
   "outputs": [],
   "source": [
    "import numpy as np\n",
    "import pandas as pd\n",
    "\n",
    "\n",
    "import chromedriver_binary\n",
    "from bs4 import BeautifulSoup\n",
    "from selenium import webdriver"
   ]
  },
  {
   "cell_type": "code",
   "execution_count": 10,
   "id": "d986de4c",
   "metadata": {},
   "outputs": [],
   "source": [
    "browser = webdriver.Chrome()\n",
    "\n",
    "browser.get('https://www.youtube.com/c/GeeksforGeeksVideos/videos')"
   ]
  },
  {
   "cell_type": "code",
   "execution_count": 11,
   "id": "496acb6c",
   "metadata": {},
   "outputs": [],
   "source": [
    "soup = BeautifulSoup(browser.page_source, 'html.parser')"
   ]
  },
  {
   "cell_type": "code",
   "execution_count": 12,
   "id": "fb5f21d6",
   "metadata": {},
   "outputs": [
    {
     "ename": "AttributeError",
     "evalue": "'NoneType' object has no attribute 'text'",
     "output_type": "error",
     "traceback": [
      "\u001b[1;31m---------------------------------------------------------------------------\u001b[0m",
      "\u001b[1;31mAttributeError\u001b[0m                            Traceback (most recent call last)",
      "Cell \u001b[1;32mIn[12], line 5\u001b[0m\n\u001b[0;32m      1\u001b[0m data \u001b[39m=\u001b[39m []\n\u001b[0;32m      3\u001b[0m \u001b[39mfor\u001b[39;00m sp \u001b[39min\u001b[39;00m soup\u001b[39m.\u001b[39mfind_all(\u001b[39m'\u001b[39m\u001b[39mytd-rich-grid-media\u001b[39m\u001b[39m'\u001b[39m):\n\u001b[1;32m----> 5\u001b[0m     title      \u001b[39m=\u001b[39m sp\u001b[39m.\u001b[39;49mfind(\u001b[39m'\u001b[39;49m\u001b[39ma\u001b[39;49m\u001b[39m'\u001b[39;49m, class_ \u001b[39m=\u001b[39;49m \u001b[39m'\u001b[39;49m\u001b[39myt-simple-endpoint style-scope ytd-grid-video-renderer\u001b[39;49m\u001b[39m'\u001b[39;49m)\u001b[39m.\u001b[39;49mtext\n\u001b[0;32m      6\u001b[0m     video_link \u001b[39m=\u001b[39m sp\u001b[39m.\u001b[39mfind(\u001b[39m'\u001b[39m\u001b[39ma\u001b[39m\u001b[39m'\u001b[39m, class_ \u001b[39m=\u001b[39m \u001b[39m'\u001b[39m\u001b[39myt-simple-endpoint style-scope ytd-grid-video-renderer\u001b[39m\u001b[39m'\u001b[39m)\u001b[39m.\u001b[39mget(\u001b[39m'\u001b[39m\u001b[39mhref\u001b[39m\u001b[39m'\u001b[39m)\n\u001b[0;32m      8\u001b[0m     \u001b[39mtry\u001b[39;00m:\n",
      "\u001b[1;31mAttributeError\u001b[0m: 'NoneType' object has no attribute 'text'"
     ]
    }
   ],
   "source": [
    "data = []\n",
    "\n",
    "for sp in soup.find_all('ytd-rich-grid-media'):\n",
    "    \n",
    "    title      = sp.find('a', class_ = 'yt-simple-endpoint style-scope ytd-grid-video-renderer').text\n",
    "    video_link = sp.find('a', class_ = 'yt-simple-endpoint style-scope ytd-grid-video-renderer').get('href')\n",
    "\n",
    "    try:\n",
    "        views  = sp.find_all('span', class_ = 'style-scope ytd-grid-video-renderer')[0].text\n",
    "    except:\n",
    "        views  = np.nan\n",
    "    try:\n",
    "        date_time  = sp.find_all('span', class_ = 'style-scope ytd-grid-video-renderer')[1].text\n",
    "    except:\n",
    "        date_time  = np.nan\n",
    "        \n",
    "    try:\n",
    "        thumbnail_link = sp.find('img').get('src').split('?')[0]\n",
    "    except:\n",
    "        thumbnail_link = np.nan\n",
    "\n",
    "        \n",
    "    data.append([title, views, date_time, video_link, thumbnail_link])"
   ]
  },
  {
   "cell_type": "code",
   "execution_count": 5,
   "id": "bae117d0",
   "metadata": {},
   "outputs": [
    {
     "data": {
      "text/plain": [
       "0"
      ]
     },
     "execution_count": 5,
     "metadata": {},
     "output_type": "execute_result"
    }
   ],
   "source": [
    "len(data)"
   ]
  },
  {
   "cell_type": "code",
   "execution_count": 6,
   "id": "cf81a024",
   "metadata": {},
   "outputs": [
    {
     "ename": "IndexError",
     "evalue": "list index out of range",
     "output_type": "error",
     "traceback": [
      "\u001b[1;31m---------------------------------------------------------------------------\u001b[0m",
      "\u001b[1;31mIndexError\u001b[0m                                Traceback (most recent call last)",
      "Cell \u001b[1;32mIn[6], line 1\u001b[0m\n\u001b[1;32m----> 1\u001b[0m data[\u001b[39m0\u001b[39;49m]\n",
      "\u001b[1;31mIndexError\u001b[0m: list index out of range"
     ]
    }
   ],
   "source": [
    "data[0]"
   ]
  },
  {
   "cell_type": "code",
   "execution_count": 7,
   "id": "3b09726a",
   "metadata": {},
   "outputs": [],
   "source": [
    "df = pd.DataFrame(data, columns = ['title','views','date_time','video_link','thumbnail_link'])"
   ]
  },
  {
   "cell_type": "code",
   "execution_count": 8,
   "id": "532c1739",
   "metadata": {},
   "outputs": [
    {
     "data": {
      "text/html": [
       "<div>\n",
       "<style scoped>\n",
       "    .dataframe tbody tr th:only-of-type {\n",
       "        vertical-align: middle;\n",
       "    }\n",
       "\n",
       "    .dataframe tbody tr th {\n",
       "        vertical-align: top;\n",
       "    }\n",
       "\n",
       "    .dataframe thead th {\n",
       "        text-align: right;\n",
       "    }\n",
       "</style>\n",
       "<table border=\"1\" class=\"dataframe\">\n",
       "  <thead>\n",
       "    <tr style=\"text-align: right;\">\n",
       "      <th></th>\n",
       "      <th>title</th>\n",
       "      <th>views</th>\n",
       "      <th>date_time</th>\n",
       "      <th>video_link</th>\n",
       "      <th>thumbnail_link</th>\n",
       "    </tr>\n",
       "  </thead>\n",
       "  <tbody>\n",
       "  </tbody>\n",
       "</table>\n",
       "</div>"
      ],
      "text/plain": [
       "Empty DataFrame\n",
       "Columns: [title, views, date_time, video_link, thumbnail_link]\n",
       "Index: []"
      ]
     },
     "execution_count": 8,
     "metadata": {},
     "output_type": "execute_result"
    }
   ],
   "source": [
    "df"
   ]
  },
  {
   "cell_type": "code",
   "execution_count": 9,
   "id": "3b36cf89",
   "metadata": {},
   "outputs": [
    {
     "data": {
      "text/plain": [
       "title             0.0\n",
       "views             0.0\n",
       "date_time         0.0\n",
       "video_link        0.0\n",
       "thumbnail_link    0.0\n",
       "dtype: float64"
      ]
     },
     "execution_count": 9,
     "metadata": {},
     "output_type": "execute_result"
    }
   ],
   "source": [
    "df.isnull().sum()"
   ]
  },
  {
   "cell_type": "code",
   "execution_count": 121,
   "id": "73885f46",
   "metadata": {},
   "outputs": [],
   "source": [
    "df.to_csv('data.csv',index = False)"
   ]
  },
  {
   "cell_type": "code",
   "execution_count": null,
   "id": "0d38f0ee",
   "metadata": {},
   "outputs": [],
   "source": []
  }
 ],
 "metadata": {
  "kernelspec": {
   "display_name": "Python 3 (ipykernel)",
   "language": "python",
   "name": "python3"
  },
  "language_info": {
   "codemirror_mode": {
    "name": "ipython",
    "version": 3
   },
   "file_extension": ".py",
   "mimetype": "text/x-python",
   "name": "python",
   "nbconvert_exporter": "python",
   "pygments_lexer": "ipython3",
   "version": "3.11.4"
  }
 },
 "nbformat": 4,
 "nbformat_minor": 5
}
