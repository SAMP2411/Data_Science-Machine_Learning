{
 "cells": [
  {
   "cell_type": "code",
   "execution_count": 29,
   "metadata": {},
   "outputs": [],
   "source": [
    "import requests\n",
    "from bs4 import BeautifulSoup\n",
    "\n",
    "prefix = \"https://www.google.com/search?q=\"\n",
    "# title = str(input(\"Enter the topic : \")).replace(' ',\"+\")\n",
    "title = \"mahatma gnadhi\".replace(' ',\"+\")\n",
    "\n",
    "link = prefix + title + \"+wikipedia\"\n",
    "\n",
    "res = requests.get(link)\n",
    "soup = BeautifulSoup(res.text, 'html.parser')\n"
   ]
  },
  {
   "cell_type": "code",
   "execution_count": 23,
   "metadata": {},
   "outputs": [],
   "source": []
  },
  {
   "cell_type": "code",
   "execution_count": 33,
   "metadata": {},
   "outputs": [
    {
     "data": {
      "text/plain": [
       "'/en.wikipedia.org/w/index.php?title=Mahatma_Gandhi'"
      ]
     },
     "execution_count": 33,
     "metadata": {},
     "output_type": "execute_result"
    }
   ],
   "source": [
    "\n",
    "for sp in soup.find_all('div'):\n",
    "    try:\n",
    "        link = sp.find('a').get('href')\n",
    "        if('en.wikipedia.org' in link):\n",
    "            break\n",
    "    except:\n",
    "        pass\n",
    "\n",
    "newlink = link[7:].split(\"&\")[0]\n",
    "newlink\n"
   ]
  },
  {
   "cell_type": "code",
   "execution_count": 31,
   "metadata": {},
   "outputs": [],
   "source": [
    "res = requests.get(newlink)\n",
    "soup = BeautifulSoup(res.text, 'html.parser')\n",
    "\n",
    "corpus = ''\n",
    "for p in soup.find_all('p'):\n",
    "    corpus += p.text\n",
    "    corpus += \"\\n\"\n",
    "\n",
    "corpus = corpus.strip()\n",
    "\n",
    "heading = soup.find('h1').text\n",
    "\n",
    "\n",
    "for i in range (1,359):\n",
    "    corpus = corpus.replace('['+str(i)+']','')"
   ]
  },
  {
   "cell_type": "code",
   "execution_count": 32,
   "metadata": {},
   "outputs": [],
   "source": [
    "fd = open(heading+\".txt\",\"w\",encoding=\"utf-8\")\n",
    "fd.write(corpus)\n",
    "fd.close()"
   ]
  },
  {
   "cell_type": "code",
   "execution_count": null,
   "metadata": {},
   "outputs": [],
   "source": []
  }
 ],
 "metadata": {
  "kernelspec": {
   "display_name": "Python 3",
   "language": "python",
   "name": "python3"
  },
  "language_info": {
   "codemirror_mode": {
    "name": "ipython",
    "version": 3
   },
   "file_extension": ".py",
   "mimetype": "text/x-python",
   "name": "python",
   "nbconvert_exporter": "python",
   "pygments_lexer": "ipython3",
   "version": "3.11.4"
  },
  "orig_nbformat": 4
 },
 "nbformat": 4,
 "nbformat_minor": 2
}
